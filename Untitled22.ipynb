{
  "nbformat": 4,
  "nbformat_minor": 0,
  "metadata": {
    "colab": {
      "provenance": [],
      "authorship_tag": "ABX9TyOdq8totP1u4hHlbidtKc9R",
      "include_colab_link": true
    },
    "kernelspec": {
      "name": "python3",
      "display_name": "Python 3"
    },
    "language_info": {
      "name": "python"
    }
  },
  "cells": [
    {
      "cell_type": "markdown",
      "metadata": {
        "id": "view-in-github",
        "colab_type": "text"
      },
      "source": [
        "<a href=\"https://colab.research.google.com/github/rachotta3227/python/blob/main/Untitled22.ipynb\" target=\"_parent\"><img src=\"https://colab.research.google.com/assets/colab-badge.svg\" alt=\"Open In Colab\"/></a>"
      ]
    },
    {
      "cell_type": "code",
      "execution_count": null,
      "metadata": {
        "id": "-hwa8a1g9HiJ"
      },
      "outputs": [],
      "source": [
        "import sympy as sym\n",
        "from sympy.plotting import plot\n",
        "sym.init_printing(use_unicode=True)\n",
        "%matplotlib inline\n"
      ]
    },
    {
      "cell_type": "code",
      "source": [
        "a, b, c, x, y = sym.symbols(\"a b c x y\")"
      ],
      "metadata": {
        "id": "UdfTHq5s9Xl3"
      },
      "execution_count": null,
      "outputs": []
    },
    {
      "cell_type": "code",
      "source": [
        "expr=x*sym.exp(x)-1\n"
      ],
      "metadata": {
        "id": "Fqd5On3A9dY8"
      },
      "execution_count": null,
      "outputs": []
    },
    {
      "cell_type": "code",
      "source": [
        "ans=sym.Derivative(expr)"
      ],
      "metadata": {
        "id": "Yv_ns6yn9cMH"
      },
      "execution_count": null,
      "outputs": []
    },
    {
      "cell_type": "code",
      "source": [
        "print(expr)"
      ],
      "metadata": {
        "colab": {
          "base_uri": "https://localhost:8080/"
        },
        "id": "YKdXyDmN9oaK",
        "outputId": "c4c8d82f-777a-4a7e-dbbb-6922359cd7d5"
      },
      "execution_count": null,
      "outputs": [
        {
          "output_type": "stream",
          "name": "stdout",
          "text": [
            "x*exp(x) - 1\n"
          ]
        }
      ]
    },
    {
      "cell_type": "code",
      "source": [
        "print(ans)"
      ],
      "metadata": {
        "colab": {
          "base_uri": "https://localhost:8080/"
        },
        "id": "A1tJrMz9AvmD",
        "outputId": "4ef0afb5-6921-4c78-c90e-4420aa179437"
      },
      "execution_count": null,
      "outputs": [
        {
          "output_type": "stream",
          "name": "stdout",
          "text": [
            "Derivative(x*exp(x) - 1, x)\n"
          ]
        }
      ]
    },
    {
      "cell_type": "code",
      "source": [
        "expr.limit(x,0.5)"
      ],
      "metadata": {
        "colab": {
          "base_uri": "https://localhost:8080/",
          "height": 37
        },
        "id": "KgRMIWn0-kLs",
        "outputId": "cb198507-5ecd-4086-dfff-6803109b9fd8"
      },
      "execution_count": null,
      "outputs": [
        {
          "output_type": "execute_result",
          "data": {
            "text/plain": [
              "-0.175639364649936"
            ],
            "text/latex": "$\\displaystyle -0.175639364649936$"
          },
          "metadata": {},
          "execution_count": 15
        }
      ]
    },
    {
      "cell_type": "code",
      "source": [
        "from sympy import symbols, diff, exp\n",
        "\n",
        "def differentiate_expression(expression_str, variable):\n",
        "    # シンボルを作成\n",
        "    x = symbols(variable)\n",
        "\n",
        "    # 式を文字列からパース\n",
        "    expression = x * exp(x) - 1\n",
        "\n",
        "    # 式を変数で微分\n",
        "    derivative = diff(expression, x)\n",
        "\n",
        "    return derivative\n",
        "\n",
        "\n"
      ],
      "metadata": {
        "id": "MNf8gapABPpa"
      },
      "execution_count": null,
      "outputs": []
    },
    {
      "cell_type": "code",
      "source": [
        "# ユーザーに式と変数を入力させる例\n",
        "expression_str = \"x*exp(x) +exp(x)\"\n",
        "variable = \"x\"\n",
        "\n",
        "result = differentiate_expression(expression_str, variable)\n",
        "print(\"微分結果:\", result)\n",
        "result.limit(x,0)"
      ],
      "metadata": {
        "colab": {
          "base_uri": "https://localhost:8080/",
          "height": 55
        },
        "id": "uIuLo2hTFog6",
        "outputId": "d769840b-1b7b-45aa-c604-6a58b2b8e486"
      },
      "execution_count": null,
      "outputs": [
        {
          "output_type": "stream",
          "name": "stdout",
          "text": [
            "微分結果: x*exp(x) + exp(x)\n"
          ]
        },
        {
          "output_type": "execute_result",
          "data": {
            "text/plain": [
              "1"
            ],
            "text/latex": "$\\displaystyle 1$"
          },
          "metadata": {},
          "execution_count": 34
        }
      ]
    },
    {
      "cell_type": "code",
      "source": [
        "# ユーザーに式と変数を入力させる例\n",
        "expression_str = \"x*exp(x) - 1\"\n",
        "variable = \"x\"\n",
        "\n",
        "result = differentiate_expression(expression_str, variable)\n",
        "print(\"微分結果:\", result)\n",
        "result.limit(x,0)"
      ],
      "metadata": {
        "colab": {
          "base_uri": "https://localhost:8080/",
          "height": 55
        },
        "id": "R1uocBrQCJ7k",
        "outputId": "f9d1bf18-f5af-4976-ba5f-63cfe06e55e9"
      },
      "execution_count": null,
      "outputs": [
        {
          "output_type": "stream",
          "name": "stdout",
          "text": [
            "微分結果: x*exp(x) + exp(x)\n"
          ]
        },
        {
          "output_type": "execute_result",
          "data": {
            "text/plain": [
              "1"
            ],
            "text/latex": "$\\displaystyle 1$"
          },
          "metadata": {},
          "execution_count": 32
        }
      ]
    },
    {
      "cell_type": "code",
      "source": [
        "# ユーザーに式と変数を入力させる例\n",
        "expression_str = result\n",
        "variable = \"x\"\n",
        "print(result)\n",
        "result = differentiate_expression(expression_str, variable)\n",
        "print(\"微分結果:\", result)\n",
        "result.limit(x,0)"
      ],
      "metadata": {
        "colab": {
          "base_uri": "https://localhost:8080/",
          "height": 73
        },
        "id": "tjRmMRNTEEae",
        "outputId": "f00769ad-406e-4a9c-e12f-a7d564229e9b"
      },
      "execution_count": null,
      "outputs": [
        {
          "output_type": "stream",
          "name": "stdout",
          "text": [
            "x*exp(x) + exp(x)\n",
            "微分結果: x*exp(x) + exp(x)\n"
          ]
        },
        {
          "output_type": "execute_result",
          "data": {
            "text/plain": [
              "1"
            ],
            "text/latex": "$\\displaystyle 1$"
          },
          "metadata": {},
          "execution_count": 33
        }
      ]
    }
  ]
}