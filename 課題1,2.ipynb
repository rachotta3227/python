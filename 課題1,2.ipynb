{
  "nbformat": 4,
  "nbformat_minor": 0,
  "metadata": {
    "colab": {
      "provenance": [],
      "authorship_tag": "ABX9TyMxry6fl660Gj+FhwaCi1bN",
      "include_colab_link": true
    },
    "kernelspec": {
      "name": "python3",
      "display_name": "Python 3"
    },
    "language_info": {
      "name": "python"
    }
  },
  "cells": [
    {
      "cell_type": "markdown",
      "metadata": {
        "id": "view-in-github",
        "colab_type": "text"
      },
      "source": [
        "<a href=\"https://colab.research.google.com/github/rachotta3227/python/blob/main/%E8%AA%B2%E9%A1%8C1%2C2.ipynb\" target=\"_parent\"><img src=\"https://colab.research.google.com/assets/colab-badge.svg\" alt=\"Open In Colab\"/></a>"
      ]
    },
    {
      "cell_type": "code",
      "execution_count": null,
      "metadata": {
        "id": "1jT5ovzy_5DH"
      },
      "outputs": [],
      "source": [
        "_cost=input('金額:')\n",
        "cost=int(_cost)\n",
        "cost\n"
      ]
    },
    {
      "cell_type": "code",
      "source": [
        "import random\n",
        "import time\n",
        "n=100#0(N*N)\n",
        "arr=\n",
        "\n",
        "start=time.time()\n",
        "for i in range"
      ],
      "metadata": {
        "id": "-JW_yQAgAEAb"
      },
      "execution_count": null,
      "outputs": []
    },
    {
      "cell_type": "markdown",
      "source": [
        ":nの時n-1まで記述"
      ],
      "metadata": {
        "id": "gsSLUy7JArIS"
      }
    },
    {
      "cell_type": "code",
      "source": [
        "print(\"ソート後:\"arr[:3])"
      ],
      "metadata": {
        "id": "n7tl_oncAd9K",
        "colab": {
          "base_uri": "https://localhost:8080/",
          "height": 130
        },
        "outputId": "fa4e9531-4e33-4577-dad7-9257d395f10d"
      },
      "execution_count": null,
      "outputs": [
        {
          "output_type": "error",
          "ename": "SyntaxError",
          "evalue": "ignored",
          "traceback": [
            "\u001b[0;36m  File \u001b[0;32m\"<ipython-input-23-974f3167ecab>\"\u001b[0;36m, line \u001b[0;32m1\u001b[0m\n\u001b[0;31m    print(\"ソート後:\"arr[:3])\u001b[0m\n\u001b[0m                   ^\u001b[0m\n\u001b[0;31mSyntaxError\u001b[0m\u001b[0;31m:\u001b[0m invalid syntax\n"
          ]
        }
      ]
    },
    {
      "cell_type": "markdown",
      "source": [
        "課題1.1 f(n)=n!"
      ],
      "metadata": {
        "id": "L7858F9e6OK7"
      }
    },
    {
      "cell_type": "code",
      "source": [
        "def f(n):\n",
        "  ans = 1\n",
        "  for n in range(1,n+1):\n",
        "   ans *= n\n",
        "  return ans\n"
      ],
      "metadata": {
        "id": "1LZ5vucnAmrY"
      },
      "execution_count": null,
      "outputs": []
    },
    {
      "cell_type": "code",
      "source": [
        "print(f\"関数n(30)={f(30)}\")"
      ],
      "metadata": {
        "colab": {
          "base_uri": "https://localhost:8080/"
        },
        "id": "QHvQUEMEBKQu",
        "outputId": "88527ab1-ed7e-467a-fa45-9a490e2ee4bb"
      },
      "execution_count": null,
      "outputs": [
        {
          "output_type": "stream",
          "name": "stdout",
          "text": [
            "関数n(30)=265252859812191058636308480000000\n"
          ]
        }
      ]
    },
    {
      "cell_type": "markdown",
      "source": [
        "問題問題1.1 水差し問題"
      ],
      "metadata": {
        "id": "XosIQ7M26cnH"
      }
    },
    {
      "cell_type": "code",
      "source": [
        "def f(sum):\n",
        " S=0\n",
        " L=7\n",
        " mix=L+S\n",
        " while mix!=sum:\n",
        "    L=7\n",
        "    if L==7:\n",
        "      L=L-(5-S)\n",
        "      S=5\n",
        "\n",
        "    if S==5:\n",
        "      S=0\n",
        "      S=L\n",
        "      L=0\n",
        "    mix=L+S\n",
        " return S\n",
        "\n"
      ],
      "metadata": {
        "id": "62ghxQfvMqU5"
      },
      "execution_count": null,
      "outputs": []
    },
    {
      "cell_type": "code",
      "source": [
        "print(f\"関数sum(4)={f(4) }\")"
      ],
      "metadata": {
        "colab": {
          "base_uri": "https://localhost:8080/"
        },
        "id": "e6qTeq12X0iE",
        "outputId": "7bd7f46a-58ac-45a5-eea8-e451014f41c2"
      },
      "execution_count": null,
      "outputs": [
        {
          "output_type": "stream",
          "name": "stdout",
          "text": [
            "関数sum(4)=4\n"
          ]
        }
      ]
    },
    {
      "cell_type": "markdown",
      "source": [
        "問題問題2.2 数列"
      ],
      "metadata": {
        "id": "r0SGVRnh7map"
      }
    },
    {
      "cell_type": "code",
      "source": [
        "def f(n):\n",
        "  ans=0\n",
        "  i=2\n",
        "  s=[1,1]\n",
        "  if n>2:\n",
        "\n",
        "    while i!=n:\n",
        "     ans=s[i-1]*s[i-2]+s[i-1]+s[i-2]\n",
        "     s.append(ans)\n",
        "     i+=1\n",
        "  return s"
      ],
      "metadata": {
        "id": "MViTKqC5ef1Y"
      },
      "execution_count": null,
      "outputs": []
    },
    {
      "cell_type": "code",
      "source": [
        "print(f\"関数n(15)={f(15) }\")"
      ],
      "metadata": {
        "colab": {
          "base_uri": "https://localhost:8080/"
        },
        "id": "PFZ69Yv2hp2A",
        "outputId": "b3d1d4a2-82a9-4a20-e012-2f858b502c24"
      },
      "execution_count": null,
      "outputs": [
        {
          "output_type": "stream",
          "name": "stdout",
          "text": [
            "関数n(15)=[1, 1, 3, 7, 31, 255, 8191, 2097151, 17179869183, 36028797018963967, 618970019642690137449562111, 22300745198530623141535718272648361505980415, 13803492693581127574869511724554050904902217944340773110325048447598591, 307828173409331868845930000782371982852185463050511302093346042220669701339821957901673955116288403443801781174271, 4249103942534136789516705652419749018636744941816255385595553105603228478886817941913300018121834285351114635889972008122772634701221657915276159830132698815550650166683145752253825023]\n"
          ]
        }
      ]
    },
    {
      "cell_type": "markdown",
      "source": [
        "数列2"
      ],
      "metadata": {
        "id": "GItBstPfxcUV"
      }
    },
    {
      "cell_type": "code",
      "source": [
        "def f(n):\n",
        "  import math\n",
        "  i=1\n",
        "  ans=[]\n",
        "  while i!=n:\n",
        "    left=(1+math.sqrt(5))\n",
        "    left**=i\n",
        "    right=(1-math.sqrt(5))\n",
        "    right**=i\n",
        "    upside=left-right\n",
        "    upside/=math.sqrt(5)\n",
        "    upside/=(2**i)\n",
        "    ans.append(int(upside))\n",
        "    i+=1\n",
        "  return ans"
      ],
      "metadata": {
        "id": "sx3koyThxZp_"
      },
      "execution_count": null,
      "outputs": []
    },
    {
      "cell_type": "code",
      "source": [
        "print(f\"関数n(15)={f(15) }\")"
      ],
      "metadata": {
        "colab": {
          "base_uri": "https://localhost:8080/"
        },
        "id": "0bSZC2_DyeWH",
        "outputId": "10f81f26-7188-43f0-ecef-92ddef7c9454"
      },
      "execution_count": null,
      "outputs": [
        {
          "output_type": "stream",
          "name": "stdout",
          "text": [
            "関数n(15)=[1, 1, 2, 3, 5, 8, 13, 21, 34, 55, 89, 144, 233, 377]\n"
          ]
        }
      ]
    },
    {
      "cell_type": "markdown",
      "source": [
        "a1(n)=2^b(n) -1"
      ],
      "metadata": {
        "id": "r7rJsBQ32PwG"
      }
    },
    {
      "cell_type": "code",
      "source": [],
      "metadata": {
        "id": "5q4jXoNF2Oox"
      },
      "execution_count": null,
      "outputs": []
    },
    {
      "cell_type": "code",
      "source": [
        "print(f\"関数n(2)={f(2) }\")"
      ],
      "metadata": {
        "id": "bv_UmR7Z2hni"
      },
      "execution_count": null,
      "outputs": []
    },
    {
      "cell_type": "markdown",
      "source": [
        "課題1 自動販売機"
      ],
      "metadata": {
        "id": "KDIPoaXg57jU"
      }
    },
    {
      "cell_type": "code",
      "source": [
        "   product_price=int(input('商品の値段:'))\n",
        "   insert_price=int(input('投入金額:'))\n",
        "   change=0\n",
        "   i=0\n",
        "   j=0\n",
        "   k=0\n",
        "   l=0\n",
        "   m=0\n",
        "   n=0\n",
        "   o=0\n",
        "   p=0\n",
        "   q=0\n",
        "   if product_price>insert_price:\n",
        "     lack=product_price-insert_price\n",
        "     print(\"お金が\",lack,\"円足りません\")\n",
        "   else:\n",
        "    change =insert_price-product_price\n",
        "    print('おつりは',change,'円')\n",
        "    while change >= 10000:\n",
        "     change -= 10000\n",
        "     i+=1\n",
        "    if i!=0:\n",
        "      print('10000円札は',i,'枚')\n",
        "    if change >= 5000:\n",
        "     change -= 5000\n",
        "     j=1\n",
        "    if j!=0:\n",
        "      print('5000円札は',j,'枚')\n",
        "    while change >= 1000:\n",
        "     change -= 1000\n",
        "     k+=1\n",
        "    if k!=0:\n",
        "      print('1000円札は',k,'枚')\n",
        "    if change >= 500 :\n",
        "     change -= 500\n",
        "     l = 1\n",
        "    if l!=0:\n",
        "      print('500円玉は',l,'枚')\n",
        "    while change >=100:\n",
        "     change -= 100\n",
        "     m+=1\n",
        "    if m!=0:\n",
        "      print('100円玉は',m,'枚')\n",
        "    if change >= 50 :\n",
        "     change -= 50\n",
        "     n=1\n",
        "    if n!=0:\n",
        "      print('50円玉は',n,'枚')\n",
        "    while change >= 10:\n",
        "     change -= 10\n",
        "     o += 1\n",
        "    if o!=0:\n",
        "     print('10円玉は',o,'枚')\n",
        "    if change >= 5:\n",
        "     change -= 5\n",
        "     p=1\n",
        "    if p!=0:\n",
        "      print('5円玉は',1,'枚')\n",
        "    while change >= 1:\n",
        "     change -= 1\n",
        "     q += 1\n",
        "    if q!=0:\n",
        "     print('1円玉は',q,'枚')"
      ],
      "metadata": {
        "colab": {
          "base_uri": "https://localhost:8080/"
        },
        "id": "roUY9qzCwuDQ",
        "outputId": "3bb35882-d83e-491a-9ea2-3079567a853f"
      },
      "execution_count": null,
      "outputs": [
        {
          "output_type": "stream",
          "name": "stdout",
          "text": [
            "商品の値段:11111\n",
            "投入金額:99999\n",
            "おつりは 88888 円\n",
            "10000円札は 8 枚\n",
            "5000円札は 1 枚\n",
            "1000円札は 3 枚\n",
            "500円玉は 1 枚\n",
            "100円玉は 3 枚\n",
            "50円玉は 1 枚\n",
            "10円玉は 3 枚\n",
            "5円玉は 1 枚\n",
            "1円玉は 3 枚\n"
          ]
        }
      ]
    },
    {
      "cell_type": "code",
      "source": [],
      "metadata": {
        "id": "xmD9uLzO5H68"
      },
      "execution_count": null,
      "outputs": []
    }
  ]
}