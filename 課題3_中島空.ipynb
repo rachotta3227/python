{
  "nbformat": 4,
  "nbformat_minor": 0,
  "metadata": {
    "colab": {
      "provenance": [],
      "authorship_tag": "ABX9TyMnqfJRDvLNJqYNL2uVJGZm",
      "include_colab_link": true
    },
    "kernelspec": {
      "name": "python3",
      "display_name": "Python 3"
    },
    "language_info": {
      "name": "python"
    }
  },
  "cells": [
    {
      "cell_type": "markdown",
      "metadata": {
        "id": "view-in-github",
        "colab_type": "text"
      },
      "source": [
        "<a href=\"https://colab.research.google.com/github/rachotta3227/python/blob/main/%E8%AA%B2%E9%A1%8C3_%E4%B8%AD%E5%B3%B6%E7%A9%BA.ipynb\" target=\"_parent\"><img src=\"https://colab.research.google.com/assets/colab-badge.svg\" alt=\"Open In Colab\"/></a>"
      ]
    },
    {
      "cell_type": "markdown",
      "source": [
        "1) 幅優先探索(常に左の子ノードから展開し、訪問する)\n",
        "\n",
        "2) 深さ優先探索(常に左の子ノードから展開し、訪問する)\n",
        "\n",
        "3) 均一コスト探索\n",
        "\n",
        "OpenList(オープンリスト),ClosedList or Visited(訪問したノード),\n",
        "探索木, 解(パス)を求めなさい。"
      ],
      "metadata": {
        "id": "i5Q83FuTLo7z"
      }
    },
    {
      "cell_type": "code",
      "execution_count": null,
      "metadata": {
        "id": "lSqjZH5JASND"
      },
      "outputs": [],
      "source": [
        "def BFS(g,s,e):\n",
        "\n",
        "  C=[]\n",
        "  o=[]\n",
        "  initPath=[s]\n",
        "  o.append(s)\n",
        "  pathQueue=[initPath]\n",
        "  while len(o)!=0:\n",
        "    A=o.pop(0)\n",
        "    tmpPath=pathQueue.pop(0)\n",
        "    if A==e:\n",
        "      print(\"Goal!\")\n",
        "      return tmpPath\n",
        "    else:\n",
        "        P_A=g[A]\n",
        "        if A not in C:\n",
        "          C.append(A)\n",
        "        if P_A ==[]:\n",
        "            print(\"解がありません\")\n",
        "            return None\n",
        "        for node in P_A:\n",
        "              if node not in o and node not in C:\n",
        "                o.append(node)\n",
        "                newPath=tmpPath+[node]\n",
        "                pathQueue.append(newPath)\n",
        "  return None"
      ]
    },
    {
      "cell_type": "code",
      "source": [
        "g2={'A':{'D','C'},'B':{'A','D'},'C':{'D','E'},'D':{'E'}}\n",
        "print(\"幅優先探索の結果\")\n",
        "print (BFS(g2,\"B\",\"E\"))"
      ],
      "metadata": {
        "colab": {
          "base_uri": "https://localhost:8080/"
        },
        "id": "2XGgWlOY328D",
        "outputId": "1044d43d-a83b-4b3f-8304-f0100333f6f9"
      },
      "execution_count": null,
      "outputs": [
        {
          "output_type": "stream",
          "name": "stdout",
          "text": [
            "幅優先探索の結果\n",
            "Goal!\n",
            "['B', 'D', 'E']\n"
          ]
        }
      ]
    },
    {
      "cell_type": "code",
      "source": [
        "g2={'A':{'B','C'},'B':{'C','D','E'},'C':{'F'},'D':{'E'},'E':'G','F':{'E','G'}}\n",
        "print(\"幅優先探索の結果(p42)パスは\")\n",
        "print (BFS(g2,\"A\",\"G\"))"
      ],
      "metadata": {
        "colab": {
          "base_uri": "https://localhost:8080/"
        },
        "id": "sHvFuqnFWoxo",
        "outputId": "4ceab7c3-992a-4f8c-beb6-eff094f26d77"
      },
      "execution_count": null,
      "outputs": [
        {
          "output_type": "stream",
          "name": "stdout",
          "text": [
            "幅優先探索の結果(p42)\n",
            "Goal!\n",
            "['A', 'B', 'E', 'G']\n"
          ]
        }
      ]
    },
    {
      "cell_type": "markdown",
      "source": [
        "   OpenList.    ClosedList\n",
        "1. A______1. {}\n",
        "2.[B,C]___2. {A}\n",
        "3.[C,D,E]_3.{A->B}\n",
        "4.[D,E,F]_4.{A->B,A->C}\n",
        "5.[E,F]______5.{A->B->D,A->C}\n",
        "6.[G,F]__6.{A->B->D,A->B->E,A->C}\n",
        "7.[G]_______7.{A->B->D->E,A->B->E,A->C}\n",
        "8.[]________ 8.{A->B->D-E,A->B->E->G,A->C}\n"
      ],
      "metadata": {
        "id": "MvdoHZLoafFu"
      }
    },
    {
      "cell_type": "code",
      "source": [
        "def DFS(graph,start,end):\n",
        "  C = []\n",
        "  O = []\n",
        "  initPath = [start]\n",
        "  O.append(start)\n",
        "  pathStack = [initPath]\n",
        "  while len(O) != 0:\n",
        "    A = O.pop(0)\n",
        "    tmpPath = pathStack.pop(0)\n",
        "    if A == end:\n",
        "      print(\"Goal! DFS Search is over!\")\n",
        "      return tmpPath\n",
        "    else:\n",
        "      P_A = graph[A]\n",
        "      if A not in C:\n",
        "        C.append(A)\n",
        "      if P_A != []:\n",
        "        for node in P_A:\n",
        "          if node not in O and node not in C:\n",
        "            O.append(node)\n",
        "            O.reverse()\n",
        "            newPath = tmpPath + [node]\n",
        "            pathStack.append(newPath)\n",
        "            pathStack.reverse()\n",
        "  return None\n",
        ""
      ],
      "metadata": {
        "id": "qpJjOZRVfHck"
      },
      "execution_count": null,
      "outputs": []
    },
    {
      "cell_type": "code",
      "source": [
        "g2={'A':{'D','C'},'B':{'A','D'},'C':{'D','E'},'D':{'E'}}\n",
        "print(\"深さ優先探索の結果\")\n",
        "print (DFS(g2,\"B\",\"E\"))"
      ],
      "metadata": {
        "colab": {
          "base_uri": "https://localhost:8080/"
        },
        "id": "trEzIOB5gq7b",
        "outputId": "4abde81a-d091-4485-feb1-c3188e9331ff"
      },
      "execution_count": null,
      "outputs": [
        {
          "output_type": "stream",
          "name": "stdout",
          "text": [
            "深さ優先探索の結果\n",
            "Goal! DFS Search is over!\n",
            "['B', 'D', 'E']\n"
          ]
        }
      ]
    },
    {
      "cell_type": "code",
      "source": [
        "g2={'A':{'B','C'},'B':{'C','D','E'},'C':{'F'},'D':{'E'},'E':'G','F':{'E','G'}}\n",
        "print(\"深さ優先探索の結果(p42)パスは\")\n",
        "print (DFS(g2,\"A\",\"G\"))"
      ],
      "metadata": {
        "colab": {
          "base_uri": "https://localhost:8080/"
        },
        "id": "V06MDe3FjjCi",
        "outputId": "365fcc20-7195-47b8-f70b-d9f4272f8fa9"
      },
      "execution_count": null,
      "outputs": [
        {
          "output_type": "stream",
          "name": "stdout",
          "text": [
            "深さ優先探索の結果(p42)パスは\n",
            "Goal! DFS Search is over!\n",
            "['A', 'C', 'F', 'G']\n"
          ]
        }
      ]
    },
    {
      "cell_type": "markdown",
      "source": [
        "   OpenList.  ClosedList\n",
        "\n",
        "1.A.     　　　1.{}\n",
        "\n",
        "2.[C,B].  　 2.{A}\n",
        "\n",
        "3.[F].   　 　  3.{A->C}\n",
        "\n",
        "4.[G,E].  　  4.{A->C->F}\n",
        "\n",
        "5.[].      　　　 5.{A->C->F->G}\n"
      ],
      "metadata": {
        "id": "uThg1vQ8jiDe"
      }
    },
    {
      "cell_type": "code",
      "source": [
        "from logging import getLogRecordFactory\n",
        "def dijkstra(edges, num_node):\n",
        "  node = [float('inf')] * num_node\n",
        "  node[0] = 0\n",
        "  node_name = [i for i in range(num_node)]\n",
        "  while len(node_name) > 0:\n",
        "    r = node_name[0]\n",
        "    for i in node_name:\n",
        "      if node[i] < node[r]:\n",
        "        r = i\n",
        "    min_point = node_name.pop(node_name.index(r))\n",
        "    for factor in edges[min_point]:\n",
        "      goal = factor[0]\n",
        "      cost = factor[1]\n",
        "      if node[min_point] + cost < node[goal]:\n",
        "          node[goal] = node[min_point] + cost\n",
        "  print(node[goal])\n",
        "  return None\n",
        "  #return node[goal]\n"
      ],
      "metadata": {
        "id": "brrVK7ZrmFCT"
      },
      "execution_count": null,
      "outputs": []
    },
    {
      "cell_type": "code",
      "source": [
        "edges = [[[1,4],[2,3]],\n",
        "         [[2,1],[3,1],[4,5]],\n",
        "         [[5,2]],\n",
        "         [[4,3]],\n",
        "         [[6,2]],\n",
        "         [[4,1],[6,4]],\n",
        "         []\n",
        "]\n",
        "node_num = 7\n",
        "print(\"均一コスト探索(ダイクストラ法)を用いた最短コスト\")\n",
        "print(dijkstra(edges,node_num))"
      ],
      "metadata": {
        "colab": {
          "base_uri": "https://localhost:8080/"
        },
        "id": "HQ2EJXZkpsDP",
        "outputId": "6e24b90c-8308-42c5-ceff-9a936edd2bca"
      },
      "execution_count": null,
      "outputs": [
        {
          "output_type": "stream",
          "name": "stdout",
          "text": [
            "均一コスト探索(ダイクストラ法)を用いた最短コスト\n",
            "8\n",
            "None\n"
          ]
        }
      ]
    }
  ]
}