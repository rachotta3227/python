{
  "nbformat": 4,
  "nbformat_minor": 0,
  "metadata": {
    "colab": {
      "provenance": [],
      "authorship_tag": "ABX9TyMs4wvYB3bUjR07qlKmKRD4",
      "include_colab_link": true
    },
    "kernelspec": {
      "name": "python3",
      "display_name": "Python 3"
    },
    "language_info": {
      "name": "python"
    }
  },
  "cells": [
    {
      "cell_type": "markdown",
      "metadata": {
        "id": "view-in-github",
        "colab_type": "text"
      },
      "source": [
        "<a href=\"https://colab.research.google.com/github/rachotta3227/python/blob/main/Untitled0.ipynb\" target=\"_parent\"><img src=\"https://colab.research.google.com/assets/colab-badge.svg\" alt=\"Open In Colab\"/></a>"
      ]
    },
    {
      "cell_type": "code",
      "execution_count": null,
      "metadata": {
        "id": "SYn0YUlJo7y0"
      },
      "outputs": [],
      "source": [
        "import numpy as np\n",
        "import matplotlib.pyplot as plt\n",
        "#import pyaudio # このプログラムでは使用しません。\n",
        "import scipy.signal as signal\n",
        "\n",
        "# 音声をファイルへ出力するためのライブラリを宣言します。\n",
        "import wave\n",
        "\n",
        "# 音を生成するために用いる定数を設定します。\n",
        "volume = 0.5 # 音量（0.0〜1.0の間で指定します）\n",
        "fs = 44100   # サンプリング周波数（44100Hz）\n",
        "duration = 1.0 # 再生時間\n",
        "f = 440.0      # 周波数"
      ]
    },
    {
      "cell_type": "code",
      "source": [
        "# 正弦波を生成します。\n",
        "def sinewave(fs, f, duration):\n",
        "    t = np.arange(0, duration, 1/fs)\n",
        "    return np.sin(2 * np.pi * f * t)\n",
        "\n",
        "# 矩形波を生成します。\n",
        "def squarewave(fs, f, duraton):\n",
        "    t = np.arange(0, duration, 1/fs)\n",
        "    s = np.sin(2 * np.pi * f * t)\n",
        "    return np.sign(s)\n",
        "\n",
        "# 鋸波を生成します。\n",
        "def sawtoothwave(fs, f, duration):\n",
        "    l = fs/f\n",
        "    return 1 - 2 * (np.arange(0, fs*duration) % l) / l\n",
        "\n",
        "# 無音区間を生成します。\n",
        "def silence(fs, duration):\n",
        "    return np.zeros(int(fs*duration))\n",
        "\n",
        "# このファイルでは使用しません。\n",
        "# プログラムを比較するために残しています。\n",
        "# def play(fs, w):\n",
        "#     p = pyaudio.PyAudio()\n",
        "#     stream = p.open(format=pyaudio.paFloat32, channels=1, rate=fs, output=True)\n",
        "#     stream.write(w.astype(np.float32).tobytes())\n",
        "\n",
        "#     stream.stop_stream()\n",
        "#     stream.close()\n",
        "#     p.terminate()\n",
        "\n",
        "# 音声をファイルへ出力します。\n",
        "def play(fs, w, filename=\"output.wav\"):\n",
        "    #基本情報の設定\n",
        "    CHANNELS = 1             #モノラル\n",
        "\n",
        "    waveFile = wave.open(filename, 'wb')\n",
        "    waveFile.setnchannels(CHANNELS)\n",
        "    waveFile.setsampwidth(2)\n",
        "    waveFile.setframerate(fs)\n",
        "    waveFile.writeframes(b''.join((2 ** 15 * volume * w).astype(np.int16)))\n",
        "    waveFile.close()\n",
        "\n",
        "# 波形をグラフに表示します。\n",
        "# 引数tを指定しない場合，先頭から0.05秒分を表示します。\n",
        "def plotwave(fs, w, t=0.05):\n",
        "    l = int(fs * t)\n",
        "    while len(w) < l:\n",
        "        w = np.concatenate((w, [0.0]))\n",
        "    plt.figure(figsize=(8, 3))\n",
        "    plt.plot(np.arange(0, l)/fs, w[0:l])\n",
        "    plt.show()\n",
        "\n",
        "# パワースペクトルを表示します。\n",
        "def plotspectrum(fs, w):\n",
        "    freq, density = signal.welch(w, fs, window='hann', nperseg=1024, scaling='spectrum')\n",
        "    plt.figure(figsize=(8, 4))\n",
        "    plt.plot(freq, density)\n",
        "    plt.semilogy()\n",
        "    plt.show()\n",
        "\n",
        "# 音声波形の長さに過不足が生じないように調整して連結します。\n",
        "def concatenate(fs, duration, *waves):\n",
        "    w = np.concatenate((waves))\n",
        "    l = int(fs * duration)\n",
        "    if len(w) < l:\n",
        "        w = np.concatenate((w, np.zeros(l - len(w))))\n",
        "    return w[0:l]"
      ],
      "metadata": {
        "id": "3AjLm21npD3O"
      },
      "execution_count": null,
      "outputs": []
    },
    {
      "cell_type": "code",
      "source": [
        "# マスキー（マスクされる音）を生成します。\n",
        "maskee = concatenate(fs, 1.0, silence(fs, 0.5), sinewave(fs, 440, 0.03) * 0.04, silence(fs, 0.47))\n",
        "# 生成した音声の波形をグラフに出力します。\n",
        "plotwave(fs, maskee, 1.0)\n",
        "# 生成した音声をスピーカーから再生します。\n",
        "play(fs, np.concatenate((maskee, maskee, maskee)))"
      ],
      "metadata": {
        "id": "w1gO1-rVpHzi",
        "outputId": "fcb4f417-bed5-4558-ac67-10715510a4ec",
        "colab": {
          "base_uri": "https://localhost:8080/",
          "height": 211
        }
      },
      "execution_count": null,
      "outputs": [
        {
          "output_type": "display_data",
          "data": {
            "text/plain": [
              "<Figure size 576x216 with 1 Axes>"
            ],
            "image/png": "[encoded data removed]"
          },
          "metadata": {
            "needs_background": "light"
          }
        }
      ]
    }
  ]
}