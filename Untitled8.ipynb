{
  "nbformat": 4,
  "nbformat_minor": 0,
  "metadata": {
    "colab": {
      "provenance": [],
      "authorship_tag": "ABX9TyOwvOzgEnV4vn8+DFbJoUBU",
      "include_colab_link": true
    },
    "kernelspec": {
      "name": "python3",
      "display_name": "Python 3"
    },
    "language_info": {
      "name": "python"
    }
  },
  "cells": [
    {
      "cell_type": "markdown",
      "metadata": {
        "id": "view-in-github",
        "colab_type": "text"
      },
      "source": [
        "<a href=\"https://colab.research.google.com/github/rachotta3227/python/blob/main/Untitled8.ipynb\" target=\"_parent\"><img src=\"https://colab.research.google.com/assets/colab-badge.svg\" alt=\"Open In Colab\"/></a>"
      ]
    },
    {
      "cell_type": "markdown",
      "source": [
        "素数*３+2*y\n",
        "3に+2"
      ],
      "metadata": {
        "id": "f3UoCPHINwkw"
      }
    },
    {
      "cell_type": "code",
      "source": [
        "def check_remainder_condition(a, x):\n",
        "    # x < (a - x) の条件を満たすかどうかを確認\n",
        "    if x < (a - x):\n",
        "        # 余りが0になるかどうかを判定\n",
        "        return (a - x) % (2 * x + 1) == 0\n",
        "    else:\n",
        "        return False\n",
        "\n",
        "# 例として a = 10 の場合を試してみます\n",
        "a_value = 10000000000000001\n",
        "\n",
        "found_solution = False\n",
        "\n",
        "for x_value in range(3, a_value, 2):  # x は 3 から a-1 までの範囲で2ずつ増やして試す\n",
        "    if check_remainder_condition(a_value, x_value):\n",
        "        print(f\"For a = {a_value}, x = {x_value}: 余りが0になります\")\n",
        "        found_solution = True\n",
        "        break  # 余りが0になったらループを終了\n",
        "\n",
        "if not found_solution:\n",
        "    print(\"余りが0になるような x はありませんでした\")\n"
      ],
      "metadata": {
        "id": "ybLuPXTuyf4B",
        "colab": {
          "base_uri": "https://localhost:8080/",
          "height": 254
        },
        "outputId": "c44dada7-9201-4722-f927-d0b966b7b1ae"
      },
      "execution_count": null,
      "outputs": [
        {
          "output_type": "error",
          "ename": "KeyboardInterrupt",
          "evalue": "ignored",
          "traceback": [
            "\u001b[0;31m---------------------------------------------------------------------------\u001b[0m",
            "\u001b[0;31mKeyboardInterrupt\u001b[0m                         Traceback (most recent call last)",
            "\u001b[0;32m<ipython-input-1-58f9cedd5344>\u001b[0m in \u001b[0;36m<cell line: 14>\u001b[0;34m()\u001b[0m\n\u001b[1;32m     13\u001b[0m \u001b[0;34m\u001b[0m\u001b[0m\n\u001b[1;32m     14\u001b[0m \u001b[0;32mfor\u001b[0m \u001b[0mx_value\u001b[0m \u001b[0;32min\u001b[0m \u001b[0mrange\u001b[0m\u001b[0;34m(\u001b[0m\u001b[0;36m3\u001b[0m\u001b[0;34m,\u001b[0m \u001b[0ma_value\u001b[0m\u001b[0;34m,\u001b[0m \u001b[0;36m2\u001b[0m\u001b[0;34m)\u001b[0m\u001b[0;34m:\u001b[0m  \u001b[0;31m# x は 3 から a-1 までの範囲で2ずつ増やして試す\u001b[0m\u001b[0;34m\u001b[0m\u001b[0;34m\u001b[0m\u001b[0m\n\u001b[0;32m---> 15\u001b[0;31m     \u001b[0;32mif\u001b[0m \u001b[0mcheck_remainder_condition\u001b[0m\u001b[0;34m(\u001b[0m\u001b[0ma_value\u001b[0m\u001b[0;34m,\u001b[0m \u001b[0mx_value\u001b[0m\u001b[0;34m)\u001b[0m\u001b[0;34m:\u001b[0m\u001b[0;34m\u001b[0m\u001b[0;34m\u001b[0m\u001b[0m\n\u001b[0m\u001b[1;32m     16\u001b[0m         \u001b[0mprint\u001b[0m\u001b[0;34m(\u001b[0m\u001b[0;34mf\"For a = {a_value}, x = {x_value}: 余りが0になります\"\u001b[0m\u001b[0;34m)\u001b[0m\u001b[0;34m\u001b[0m\u001b[0;34m\u001b[0m\u001b[0m\n\u001b[1;32m     17\u001b[0m         \u001b[0mfound_solution\u001b[0m \u001b[0;34m=\u001b[0m \u001b[0;32mTrue\u001b[0m\u001b[0;34m\u001b[0m\u001b[0;34m\u001b[0m\u001b[0m\n",
            "\u001b[0;31mKeyboardInterrupt\u001b[0m: "
          ]
        }
      ]
    },
    {
      "cell_type": "code",
      "source": [
        "import matplotlib.pyplot as plt\n",
        "import numpy as np\n",
        "\n",
        "# xの範囲を指定\n",
        "x_values = np.linspace(-10, 10, 100)\n",
        "\n",
        "# 式を定義\n",
        "y1_values = 6 * x_values + 1\n",
        "y2_values = 6 * x_values + 5\n",
        "\n",
        "# zの自然数の範囲を指定\n",
        "z_values = np.arange(1, len(x_values) + 1)\n",
        "\n",
        "# 条件 y != z を考慮\n",
        "y_values = y1_values[y1_values != y2_values]\n",
        "\n",
        "# 条件を満たす点を2次元空間にプロット\n",
        "plt.figure(figsize=(10, 6))\n",
        "\n",
        "# 式1を2次元空間に描画\n",
        "plt.plot(x_values, y1_values, label='y = 6x + 1')\n",
        "\n",
        "# 式2を2次元空間に描画\n",
        "plt.plot(x_values, y2_values, label='y = 6x + 5')\n",
        "\n",
        "# 条件を満たす点を2次元空間にプロット\n",
        "plt.scatter(x_values[y1_values != y2_values], y_values, color='red', label='y != z')\n",
        "\n",
        "# グラフにラベルを追加\n",
        "plt.xlabel('x')\n",
        "plt.ylabel('y')\n",
        "\n",
        "# 凡例を追加\n",
        "plt.legend()\n",
        "\n",
        "# グラフを表示\n",
        "plt.title('2D Plot with y != z condition')\n",
        "plt.grid(True)\n",
        "plt.show()\n"
      ],
      "metadata": {
        "id": "gtll2Hd7209d"
      },
      "execution_count": null,
      "outputs": []
    },
    {
      "cell_type": "code",
      "source": [
        "def is_prime(n):\n",
        "    if n <= 1:\n",
        "        return False\n",
        "    for i in range(2, int(n**0.5) + 1):\n",
        "        if n % i == 0:\n",
        "            return False\n",
        "    return True\n",
        "\n",
        "for y in range(1, 101):  # 1から100までのyに対して計算\n",
        "    p = 6 * y + 1\n",
        "    if p <= 601 and not is_prime(p):\n",
        "        print(f\"y = {y}, 6y + 1 = {p} は素数でない\")\n"
      ],
      "metadata": {
        "colab": {
          "base_uri": "https://localhost:8080/"
        },
        "id": "kTB9yCpPyl_Z",
        "outputId": "37296f95-553d-48cf-b8b7-819a07aa8115"
      },
      "execution_count": null,
      "outputs": [
        {
          "output_type": "stream",
          "name": "stdout",
          "text": [
            "y = 4, 6y + 1 = 25 は素数でない\n",
            "y = 8, 6y + 1 = 49 は素数でない\n",
            "y = 9, 6y + 1 = 55 は素数でない\n",
            "y = 14, 6y + 1 = 85 は素数でない\n",
            "y = 15, 6y + 1 = 91 は素数でない\n",
            "y = 19, 6y + 1 = 115 は素数でない\n",
            "y = 20, 6y + 1 = 121 は素数でない\n",
            "y = 22, 6y + 1 = 133 は素数でない\n",
            "y = 24, 6y + 1 = 145 は素数でない\n",
            "y = 28, 6y + 1 = 169 は素数でない\n",
            "y = 29, 6y + 1 = 175 は素数でない\n",
            "y = 31, 6y + 1 = 187 は素数でない\n",
            "y = 34, 6y + 1 = 205 は素数でない\n",
            "y = 36, 6y + 1 = 217 は素数でない\n",
            "y = 39, 6y + 1 = 235 は素数でない\n",
            "y = 41, 6y + 1 = 247 は素数でない\n",
            "y = 42, 6y + 1 = 253 は素数でない\n",
            "y = 43, 6y + 1 = 259 は素数でない\n",
            "y = 44, 6y + 1 = 265 は素数でない\n",
            "y = 48, 6y + 1 = 289 は素数でない\n",
            "y = 49, 6y + 1 = 295 は素数でない\n",
            "y = 50, 6y + 1 = 301 は素数でない\n",
            "y = 53, 6y + 1 = 319 は素数でない\n",
            "y = 54, 6y + 1 = 325 は素数でない\n",
            "y = 57, 6y + 1 = 343 は素数でない\n",
            "y = 59, 6y + 1 = 355 は素数でない\n",
            "y = 60, 6y + 1 = 361 は素数でない\n",
            "y = 64, 6y + 1 = 385 は素数でない\n",
            "y = 65, 6y + 1 = 391 は素数でない\n",
            "y = 67, 6y + 1 = 403 は素数でない\n",
            "y = 69, 6y + 1 = 415 は素数でない\n",
            "y = 71, 6y + 1 = 427 は素数でない\n",
            "y = 74, 6y + 1 = 445 は素数でない\n",
            "y = 75, 6y + 1 = 451 は素数でない\n",
            "y = 78, 6y + 1 = 469 は素数でない\n",
            "y = 79, 6y + 1 = 475 は素数でない\n",
            "y = 80, 6y + 1 = 481 は素数でない\n",
            "y = 82, 6y + 1 = 493 は素数でない\n",
            "y = 84, 6y + 1 = 505 は素数でない\n",
            "y = 85, 6y + 1 = 511 は素数でない\n",
            "y = 86, 6y + 1 = 517 は素数でない\n",
            "y = 88, 6y + 1 = 529 は素数でない\n",
            "y = 89, 6y + 1 = 535 は素数でない\n",
            "y = 92, 6y + 1 = 553 は素数でない\n",
            "y = 93, 6y + 1 = 559 は素数でない\n",
            "y = 94, 6y + 1 = 565 は素数でない\n",
            "y = 97, 6y + 1 = 583 は素数でない\n",
            "y = 98, 6y + 1 = 589 は素数でない\n",
            "y = 99, 6y + 1 = 595 は素数でない\n"
          ]
        }
      ]
    },
    {
      "cell_type": "code",
      "execution_count": null,
      "metadata": {
        "id": "OhMXMZ14Co1s"
      },
      "outputs": [],
      "source": [
        "def calcu(n):#ax+by. x+2. y-a\n",
        "  a=3#97#固定\n",
        "  b=2#固定\n",
        "  x=3#3*\n",
        "  if n%2!=1:\n",
        "    x+=1\n",
        "  y=(n-a*x)//b#2*\n",
        "  while y>2*x:\n",
        "    print(\"[x=\",end='')\n",
        "    print(x,end=',')\n",
        "    print(\"y=\",end='')\n",
        "    print(y,end=\"]\")\n",
        "    print()\n",
        "    if y<a:\n",
        "      break\n",
        "    if y%x==0:\n",
        "      n=False\n",
        "      break\n",
        "      y=0\n",
        "    y=y-a\n",
        "    x=x+2\n",
        "  print(\"x=\",end='')\n",
        "  print(x)\n",
        "  print(\"y=\",end='')\n",
        "  print(y)\n",
        "  if y <= 0:\n",
        "    return (\"error\")\n",
        "  return n"
      ]
    },
    {
      "cell_type": "code",
      "source": [],
      "metadata": {
        "id": "ewamD2YZ2dhT"
      },
      "execution_count": null,
      "outputs": []
    },
    {
      "cell_type": "code",
      "source": [
        "def calcu3(n):\n",
        "  n+=2\n",
        "  a=1000000007#固定\n",
        "  b=2#固定\n",
        "  x=3#3*\n",
        "  if n%2!=1:\n",
        "    x+=1\n",
        "  y=n-a*x#2*\n",
        "  y=y//b\n",
        "  while y>2*x:\n",
        "    #print(\"[x=\",end='')\n",
        "    #print(x,end=',')\n",
        "    #print(\"y=\",end='')\n",
        "    #print(y,end=\"]\")\n",
        "    #print()\n",
        "    if y<a:\n",
        "      break\n",
        "    if y%x==0:\n",
        "      n=False\n",
        "      break\n",
        "      y=0\n",
        "    y=y-1000000007\n",
        "    x=x+2\n",
        "  print(\"x=\",end='')\n",
        "  print(x)\n",
        "  print(\"y=\",end='')\n",
        "  print(y)\n",
        "  if y <= 0:\n",
        "    return (\"error\")\n",
        "  return n"
      ],
      "metadata": {
        "id": "6HSfX0Q2pL30"
      },
      "execution_count": null,
      "outputs": []
    },
    {
      "cell_type": "code",
      "source": [
        "def calcu7(n):\n",
        "  n+=6\n",
        "  a=1000000007#固定\n",
        "  b=2#固定\n",
        "  x=3#3*\n",
        "  if n%2!=1:\n",
        "    x+=1\n",
        "  y=n-a*x#2*\n",
        "  y=y//b\n",
        "  while y>2*x:\n",
        "    #print(\"[x=\",end='')\n",
        "    #print(x,end=',')\n",
        "    #print(\"y=\",end='')\n",
        "    #print(y,end=\"]\")\n",
        "    #print()\n",
        "    if y<a:\n",
        "      break\n",
        "    if y%x==0:\n",
        "      n=False\n",
        "      break\n",
        "      y=0\n",
        "    y=y-1000000007\n",
        "    x=x+2\n",
        "  print(\"x=\",end='')\n",
        "  print(x)\n",
        "  print(\"y=\",end='')\n",
        "  print(y)\n",
        "  if y <= 0:\n",
        "    return (\"error\")\n",
        "  return n"
      ],
      "metadata": {
        "id": "SUaNHqVlpN27"
      },
      "execution_count": null,
      "outputs": []
    },
    {
      "cell_type": "code",
      "source": [
        "def calcu9(n):\n",
        "  n+=8\n",
        "  a=1000000007#固定\n",
        "  b=2#固定\n",
        "  x=3#3*\n",
        "  if n%2!=1:\n",
        "    x+=1\n",
        "  y=n-a*x#2*\n",
        "  y=y//b\n",
        "  while y>2*x:\n",
        "    print(\"[x=\",end='')\n",
        "    print(x,end=',')\n",
        "    print(\"y=\",end='')\n",
        "    print(y,end=\"]\")\n",
        "    print()\n",
        "    if y<a:\n",
        "      break\n",
        "    if y%x==0:\n",
        "      n=False\n",
        "      break\n",
        "      y=0\n",
        "    y=y-1000000007\n",
        "    x=x+2\n",
        "  print(\"x=\",end='')\n",
        "  print(x)\n",
        "  print(\"y=\",end='')\n",
        "  print(y)\n",
        "  if y <= 0:\n",
        "    return (\"error\")\n",
        "  return n"
      ],
      "metadata": {
        "id": "egZLNpjGpOv8"
      },
      "execution_count": null,
      "outputs": []
    },
    {
      "cell_type": "code",
      "source": [
        "sosuu = 2*3*5*7*11+2#100000000000000000031\n",
        "print(calcu(sosuu-1))\n",
        "print(calcu(sosuu+1))\n",
        "#print(calcu3(sosuu))\n",
        "#print(calcu7(sosuu))\n",
        "#print(calcu9(sosuu))"
      ],
      "metadata": {
        "id": "z9XVH2nZQKFS",
        "colab": {
          "base_uri": "https://localhost:8080/"
        },
        "outputId": "3b420a4b-17b3-4a3c-845e-4aa3d58640ec"
      },
      "execution_count": null,
      "outputs": [
        {
          "output_type": "stream",
          "name": "stdout",
          "text": [
            "[x=3,y=1151]\n",
            "[x=5,y=1148]\n",
            "[x=7,y=1145]\n",
            "[x=9,y=1142]\n",
            "[x=11,y=1139]\n",
            "[x=13,y=1136]\n",
            "[x=15,y=1133]\n",
            "[x=17,y=1130]\n",
            "[x=19,y=1127]\n",
            "[x=21,y=1124]\n",
            "[x=23,y=1121]\n",
            "[x=25,y=1118]\n",
            "[x=27,y=1115]\n",
            "[x=29,y=1112]\n",
            "[x=31,y=1109]\n",
            "[x=33,y=1106]\n",
            "[x=35,y=1103]\n",
            "[x=37,y=1100]\n",
            "[x=39,y=1097]\n",
            "[x=41,y=1094]\n",
            "[x=43,y=1091]\n",
            "[x=45,y=1088]\n",
            "[x=47,y=1085]\n",
            "[x=49,y=1082]\n",
            "[x=51,y=1079]\n",
            "[x=53,y=1076]\n",
            "[x=55,y=1073]\n",
            "[x=57,y=1070]\n",
            "[x=59,y=1067]\n",
            "[x=61,y=1064]\n",
            "[x=63,y=1061]\n",
            "[x=65,y=1058]\n",
            "[x=67,y=1055]\n",
            "[x=69,y=1052]\n",
            "[x=71,y=1049]\n",
            "[x=73,y=1046]\n",
            "[x=75,y=1043]\n",
            "[x=77,y=1040]\n",
            "[x=79,y=1037]\n",
            "[x=81,y=1034]\n",
            "[x=83,y=1031]\n",
            "[x=85,y=1028]\n",
            "[x=87,y=1025]\n",
            "[x=89,y=1022]\n",
            "[x=91,y=1019]\n",
            "[x=93,y=1016]\n",
            "[x=95,y=1013]\n",
            "[x=97,y=1010]\n",
            "[x=99,y=1007]\n",
            "[x=101,y=1004]\n",
            "[x=103,y=1001]\n",
            "[x=105,y=998]\n",
            "[x=107,y=995]\n",
            "[x=109,y=992]\n",
            "[x=111,y=989]\n",
            "[x=113,y=986]\n",
            "[x=115,y=983]\n",
            "[x=117,y=980]\n",
            "[x=119,y=977]\n",
            "[x=121,y=974]\n",
            "[x=123,y=971]\n",
            "[x=125,y=968]\n",
            "[x=127,y=965]\n",
            "[x=129,y=962]\n",
            "[x=131,y=959]\n",
            "[x=133,y=956]\n",
            "[x=135,y=953]\n",
            "[x=137,y=950]\n",
            "[x=139,y=947]\n",
            "[x=141,y=944]\n",
            "[x=143,y=941]\n",
            "[x=145,y=938]\n",
            "[x=147,y=935]\n",
            "[x=149,y=932]\n",
            "[x=151,y=929]\n",
            "[x=153,y=926]\n",
            "[x=155,y=923]\n",
            "[x=157,y=920]\n",
            "[x=159,y=917]\n",
            "[x=161,y=914]\n",
            "[x=163,y=911]\n",
            "[x=165,y=908]\n",
            "[x=167,y=905]\n",
            "[x=169,y=902]\n",
            "[x=171,y=899]\n",
            "[x=173,y=896]\n",
            "[x=175,y=893]\n",
            "[x=177,y=890]\n",
            "[x=179,y=887]\n",
            "[x=181,y=884]\n",
            "[x=183,y=881]\n",
            "[x=185,y=878]\n",
            "[x=187,y=875]\n",
            "[x=189,y=872]\n",
            "[x=191,y=869]\n",
            "[x=193,y=866]\n",
            "[x=195,y=863]\n",
            "[x=197,y=860]\n",
            "[x=199,y=857]\n",
            "[x=201,y=854]\n",
            "[x=203,y=851]\n",
            "[x=205,y=848]\n",
            "[x=207,y=845]\n",
            "[x=209,y=842]\n",
            "[x=211,y=839]\n",
            "[x=213,y=836]\n",
            "[x=215,y=833]\n",
            "[x=217,y=830]\n",
            "[x=219,y=827]\n",
            "[x=221,y=824]\n",
            "[x=223,y=821]\n",
            "[x=225,y=818]\n",
            "[x=227,y=815]\n",
            "[x=229,y=812]\n",
            "[x=231,y=809]\n",
            "[x=233,y=806]\n",
            "[x=235,y=803]\n",
            "[x=237,y=800]\n",
            "[x=239,y=797]\n",
            "[x=241,y=794]\n",
            "[x=243,y=791]\n",
            "[x=245,y=788]\n",
            "[x=247,y=785]\n",
            "[x=249,y=782]\n",
            "[x=251,y=779]\n",
            "[x=253,y=776]\n",
            "[x=255,y=773]\n",
            "[x=257,y=770]\n",
            "[x=259,y=767]\n",
            "[x=261,y=764]\n",
            "[x=263,y=761]\n",
            "[x=265,y=758]\n",
            "[x=267,y=755]\n",
            "[x=269,y=752]\n",
            "[x=271,y=749]\n",
            "[x=273,y=746]\n",
            "[x=275,y=743]\n",
            "[x=277,y=740]\n",
            "[x=279,y=737]\n",
            "[x=281,y=734]\n",
            "[x=283,y=731]\n",
            "[x=285,y=728]\n",
            "[x=287,y=725]\n",
            "[x=289,y=722]\n",
            "[x=291,y=719]\n",
            "[x=293,y=716]\n",
            "[x=295,y=713]\n",
            "[x=297,y=710]\n",
            "[x=299,y=707]\n",
            "[x=301,y=704]\n",
            "[x=303,y=701]\n",
            "[x=305,y=698]\n",
            "[x=307,y=695]\n",
            "[x=309,y=692]\n",
            "[x=311,y=689]\n",
            "[x=313,y=686]\n",
            "[x=315,y=683]\n",
            "[x=317,y=680]\n",
            "[x=319,y=677]\n",
            "[x=321,y=674]\n",
            "[x=323,y=671]\n",
            "[x=325,y=668]\n",
            "[x=327,y=665]\n",
            "[x=329,y=662]\n",
            "x=331\n",
            "y=659\n",
            "2311\n",
            "[x=3,y=1152]\n",
            "x=3\n",
            "y=1152\n",
            "False\n"
          ]
        }
      ]
    },
    {
      "cell_type": "code",
      "source": [
        "def calcubase(n):\n",
        "  a=3#固定\n",
        "  b=2#固定\n",
        "  x=3#3*\n",
        "  if n%2!=1:\n",
        "    x+=1\n",
        "  y=n-a*x#2*\n",
        "  y=y//b\n",
        "  while y>2*x:\n",
        "   # print(\"[x=\",end='')\n",
        "    #print(x,end=',')\n",
        "    #print(\"y=\",end='')\n",
        "    #print(y,end=\"]\")\n",
        "    #print()\n",
        "    if y%x==0:\n",
        "      print('素数でない')\n",
        "      break\n",
        "    y=y-a\n",
        "    x=x+2\n",
        "  print(\"x=\",end='')\n",
        "  print(x)\n",
        "  print(\"y=\",end='')\n",
        "  print(y)\n",
        "  return n"
      ],
      "metadata": {
        "id": "a3iYwAa_dXAX"
      },
      "execution_count": null,
      "outputs": []
    },
    {
      "cell_type": "code",
      "source": [
        "sosuu = 2*3*5*7*11*13*17*19*23*29*31\n",
        "print(sosuu-1)\n",
        "print(sosuu+1)\n",
        "calcubase(sosuu-1)\n",
        "calcubase(sosuu+1)"
      ],
      "metadata": {
        "colab": {
          "base_uri": "https://localhost:8080/",
          "height": 402
        },
        "id": "s2PI0CCydboy",
        "outputId": "68de2f42-9ff4-46e4-865c-9a30bccc13ed"
      },
      "execution_count": null,
      "outputs": [
        {
          "output_type": "stream",
          "name": "stdout",
          "text": [
            "200560490129\n",
            "200560490131\n",
            "素数でない\n",
            "x=228737\n",
            "y=100279901959\n"
          ]
        },
        {
          "output_type": "error",
          "ename": "KeyboardInterrupt",
          "evalue": "ignored",
          "traceback": [
            "\u001b[0;31m---------------------------------------------------------------------------\u001b[0m",
            "\u001b[0;31mKeyboardInterrupt\u001b[0m                         Traceback (most recent call last)",
            "\u001b[0;32m<ipython-input-5-b9e15f4efccb>\u001b[0m in \u001b[0;36m<cell line: 5>\u001b[0;34m()\u001b[0m\n\u001b[1;32m      3\u001b[0m \u001b[0mprint\u001b[0m\u001b[0;34m(\u001b[0m\u001b[0msosuu\u001b[0m\u001b[0;34m+\u001b[0m\u001b[0;36m1\u001b[0m\u001b[0;34m)\u001b[0m\u001b[0;34m\u001b[0m\u001b[0;34m\u001b[0m\u001b[0m\n\u001b[1;32m      4\u001b[0m \u001b[0mcalcubase\u001b[0m\u001b[0;34m(\u001b[0m\u001b[0msosuu\u001b[0m\u001b[0;34m-\u001b[0m\u001b[0;36m1\u001b[0m\u001b[0;34m)\u001b[0m\u001b[0;34m\u001b[0m\u001b[0;34m\u001b[0m\u001b[0m\n\u001b[0;32m----> 5\u001b[0;31m \u001b[0mcalcubase\u001b[0m\u001b[0;34m(\u001b[0m\u001b[0msosuu\u001b[0m\u001b[0;34m+\u001b[0m\u001b[0;36m1\u001b[0m\u001b[0;34m)\u001b[0m\u001b[0;34m\u001b[0m\u001b[0;34m\u001b[0m\u001b[0m\n\u001b[0m",
            "\u001b[0;32m<ipython-input-4-6780a1b40d93>\u001b[0m in \u001b[0;36mcalcubase\u001b[0;34m(n)\u001b[0m\n\u001b[1;32m     13\u001b[0m     \u001b[0;31m#print(y,end=\"]\")\u001b[0m\u001b[0;34m\u001b[0m\u001b[0;34m\u001b[0m\u001b[0m\n\u001b[1;32m     14\u001b[0m     \u001b[0;31m#print()\u001b[0m\u001b[0;34m\u001b[0m\u001b[0;34m\u001b[0m\u001b[0m\n\u001b[0;32m---> 15\u001b[0;31m     \u001b[0;32mif\u001b[0m \u001b[0my\u001b[0m\u001b[0;34m%\u001b[0m\u001b[0mx\u001b[0m\u001b[0;34m==\u001b[0m\u001b[0;36m0\u001b[0m\u001b[0;34m:\u001b[0m\u001b[0;34m\u001b[0m\u001b[0;34m\u001b[0m\u001b[0m\n\u001b[0m\u001b[1;32m     16\u001b[0m       \u001b[0mprint\u001b[0m\u001b[0;34m(\u001b[0m\u001b[0;34m'素数でない'\u001b[0m\u001b[0;34m)\u001b[0m\u001b[0;34m\u001b[0m\u001b[0;34m\u001b[0m\u001b[0m\n\u001b[1;32m     17\u001b[0m       \u001b[0;32mbreak\u001b[0m\u001b[0;34m\u001b[0m\u001b[0;34m\u001b[0m\u001b[0m\n",
            "\u001b[0;31mKeyboardInterrupt\u001b[0m: "
          ]
        }
      ]
    },
    {
      "cell_type": "code",
      "source": [
        "def lp(a,b,c,d):\n",
        "  l = a*b*c*d\n",
        "  print (l)\n",
        "  return l\n"
      ],
      "metadata": {
        "id": "LwcewY5mMjVk"
      },
      "execution_count": null,
      "outputs": []
    },
    {
      "cell_type": "code",
      "source": [
        "a = 1\n",
        "b = 50\n",
        "c = 51\n",
        "d = 100\n",
        "j = 0\n",
        "for i in range(25):\n",
        "  print(a,end=\",\")\n",
        "  print(b,end=\",\")\n",
        "  print(c,end=\",\")\n",
        "  print(d,end=\",\")\n",
        "  lp(a,b,c,d)\n",
        "  c+=1\n",
        "  b-=1\n",
        "  d-=1\n",
        "  a+=1"
      ],
      "metadata": {
        "colab": {
          "base_uri": "https://localhost:8080/"
        },
        "id": "x6vXLk7dRa2m",
        "outputId": "b4b6011d-4470-4a5e-85eb-573f6773d17e"
      },
      "execution_count": null,
      "outputs": [
        {
          "output_type": "stream",
          "name": "stdout",
          "text": [
            "1,50,51,100,255000\n",
            "2,49,52,99,504504\n",
            "3,48,53,98,747936\n",
            "4,47,54,97,984744\n",
            "5,46,55,96,1214400\n",
            "6,45,56,95,1436400\n",
            "7,44,57,94,1650264\n",
            "8,43,58,93,1855536\n",
            "9,42,59,92,2051784\n",
            "10,41,60,91,2238600\n",
            "11,40,61,90,2415600\n",
            "12,39,62,89,2582424\n",
            "13,38,63,88,2738736\n",
            "14,37,64,87,2884224\n",
            "15,36,65,86,3018600\n",
            "16,35,66,85,3141600\n",
            "17,34,67,84,3252984\n",
            "18,33,68,83,3352536\n",
            "19,32,69,82,3440064\n",
            "20,31,70,81,3515400\n",
            "21,30,71,80,3578400\n",
            "22,29,72,79,3628944\n",
            "23,28,73,78,3666936\n",
            "24,27,74,77,3692304\n",
            "25,26,75,76,3705000\n"
          ]
        }
      ]
    },
    {
      "cell_type": "code",
      "source": [
        "a = 4#素数？\n",
        "b = 10#ルート\n",
        "j = 0#桁数\n",
        "k = 1#演算用\n",
        "while a/b>b:\n",
        "  b*=10\n",
        "  j+=1\n",
        "b/=10\n",
        "j-=1\n",
        "print(a)\n",
        "for i in range(j):\n",
        "  k*=10\n",
        "if b<k:\n",
        "   print(k)\n",
        "while a/b>b:\n",
        "  b+=k\n",
        "print(a/(b*b))\n",
        "print(a)\n",
        "print(b)\n",
        "print(k)\n",
        "while j!=0:\n",
        "print(a/(b*b))"
      ],
      "metadata": {
        "id": "Mw4Vz24jWLET"
      },
      "execution_count": null,
      "outputs": []
    },
    {
      "cell_type": "code",
      "source": [
        "def calcu_2(n):#ax+by.\n",
        "  a=11767867#97#固定\n",
        "  b=2#固定\n",
        "  x=3#3*\n",
        "  i = 0#5の倍数カウンタ　5の倍数かっと\n",
        "  j = 1\n",
        "  if n%2!=1:\n",
        "    x+=1\n",
        "  y=(n-a*x)//b#2*\n",
        " # print(\"[x=\",end='')\n",
        " # print(x,end=',')\n",
        " # print(\"y=\",end='')\n",
        " # print(y,end=\"]\")\n",
        " # print(a*x+b*y)\n",
        "  if y%3==0:#x=3の判定\n",
        "    return False\n",
        "  y-=a\n",
        "  x+=2\n",
        "  while y>2*x:#x=5~\n",
        "    if i%10!=0:\n",
        "    #  print(\"[x=\",end='')\n",
        "    #  print(x,end=',')\n",
        "    #  print(\"y=\",end='')\n",
        "    #  print(y,end=\"]\")\n",
        "    #  print(j)\n",
        "      j+=1\n",
        "      if y<a:\n",
        "        break\n",
        "      if y%x==0:\n",
        "        n=False\n",
        "        break\n",
        "        y=0\n",
        "    i+=1\n",
        "    y=y-a\n",
        "    x=x+2\n",
        "    if i%10!=7:\n",
        "    #  print(\"[x=\",end='')\n",
        "     # print(x,end=',')\n",
        "      #print(\"y=\",end='')\n",
        "      #print(y,end=\"]\")\n",
        "      #print(j)\n",
        "      j+=1\n",
        "      if y<a:\n",
        "        break\n",
        "      if y%x==0:\n",
        "        n=False\n",
        "        break\n",
        "        y=0\n",
        "    y=y-(2*a)\n",
        "    x=x+4\n",
        "    i=i%10+1\n",
        " # print(\"x=\",end='')\n",
        " # print(x)\n",
        " # print(\"y=\",end='')\n",
        " # print(y)\n",
        " # print(j);\n",
        "  if y <= 0:\n",
        "  #  x-=4\n",
        "  #  y+=2*a\n",
        "    return (y)\n",
        "  print(x,end=',')\n",
        "  print(y)\n",
        "  return n"
      ],
      "metadata": {
        "id": "wVQGQXPAPnSX"
      },
      "execution_count": null,
      "outputs": []
    },
    {
      "cell_type": "code",
      "source": [
        "sosuu = 2738367498379013\n",
        "calcu_2(sosuu)\n",
        "#print()\n",
        "#print(calcu(sosuu))\n",
        "#print(calcu3(sosuu))\n",
        "#print(calcu7(sosuu))\n",
        "#print(calcu9(sosuu))"
      ],
      "metadata": {
        "id": "IhEb9FRmQpjC"
      },
      "execution_count": null,
      "outputs": []
    },
    {
      "cell_type": "code",
      "source": [
        "sosuu = 104003#100000000000000000031\n",
        "print(calcu(sosuu))\n",
        "232697867,462512289\n",
        "273836749837907"
      ],
      "metadata": {
        "id": "yyl2j5JVUMJf"
      },
      "execution_count": null,
      "outputs": []
    },
    {
      "cell_type": "code",
      "source": [
        "sosuu = 104003\n"
      ],
      "metadata": {
        "id": "TfKOUtYfzISj"
      },
      "execution_count": null,
      "outputs": []
    },
    {
      "cell_type": "markdown",
      "source": [
        "素数積＜n"
      ],
      "metadata": {
        "id": "rmhCg4j9DdEO"
      }
    },
    {
      "cell_type": "code",
      "source": [
        "def use_list(n,list):#素数リスト取得用 =100000\n",
        "  if n%2==0:\n",
        "    print(n,end ='は2で割れます')\n",
        "    return False\n",
        "  if n%3==0:\n",
        "    print(n,end ='は3で割れます')\n",
        "    return False\n",
        "\n",
        "  i = 0\n",
        "  while n <100000:\n",
        "    if n%i==0:\n",
        "      print(n,end = 'は')\n",
        "      print(str(i)+'で割れます')\n",
        "      return False\n",
        "    i+=2\n",
        "\n",
        "    if n%i==0:\n",
        "      print(n,end = 'は')\n",
        "      print(str(i)+'で割れます')\n",
        "      return False\n",
        "    i+=4\n"
      ],
      "metadata": {
        "id": "vJJjJ-Dp_UrS"
      },
      "execution_count": null,
      "outputs": []
    },
    {
      "cell_type": "code",
      "source": [
        "sosuu = 53\n",
        "list6(sosuu)"
      ],
      "metadata": {
        "colab": {
          "base_uri": "https://localhost:8080/"
        },
        "id": "DNOyqV7USJo0",
        "outputId": "e877f1ff-adb1-4ec4-c81e-2e540c3091ed"
      },
      "execution_count": null,
      "outputs": [
        {
          "output_type": "stream",
          "name": "stdout",
          "text": [
            "53は53で割れます\n"
          ]
        },
        {
          "output_type": "execute_result",
          "data": {
            "text/plain": [
              "False"
            ]
          },
          "metadata": {},
          "execution_count": 7
        }
      ]
    },
    {
      "cell_type": "code",
      "source": [
        "list2=[2,3,5,7,11,13,17,19,23,29,31,37,41,43,47,53,59,61,67,71,73,79,83,89,97]\n",
        "#100の余りを足す\n",
        "list3_4=[101, 103, 107, 109, 113, 127 ,131 ,137, 139, 149, 151, 157, 163, 167, 173, 179, 181, 191, 193, 197, 199, 211, 223, 227, 229, 233, 239, 241, 251, 257, 263, 269, 271, 277, 281, 283, 293, 307, 311, 313, 317, 331, 337, 347, 349, 353, 359, 367, 373, 379, 383, 389, 397, 401, 409, 419, 421, 431, 433, 439, 443, 449, 457, 461, 463, 467, 479, 487, 491, 499, 503, 509, 521, 523, 541, 547, 557, 563, 569, 571, 577, 587, 593, 599 ,601 ,607, 613, 617, 619, 631, 641, 643, 647, 653, 659, 661, 673, 677, 683, 691, 701, 709, 719, 727, 733, 739, 743, 751, 757, 761, 769, 773, 787, 797, 809, 811, 821, 823, 827, 829, 839, 853, 857, 859, 863, 877, 881, 883 ,887, 907, 911, 919, 929, 937, 941, 947, 953, 967, 971 ,977, 983, 991, 997]#+200\n",
        "List4_5=[1019 1021 1031 1033 1039 1049 1051 1061 1063 1069 1087 1091 1093 1097 1103 1109 1117 1123 1129 1151 1153 1163 1171 1181 1187 1193 1201 1213 1217 1223 1229 1231 1237 1249 1259 1277 1279 1283 1289 1291 1297 1301 1303 1307 1319 1321 1327 1361 1367 1373 1381 1399 1409 1423 1427 1429 1433 1439 1447 1451 1453 1459 1471 1481 1483 1487 1489 1493 1499 1511 1523 1531 1543 1549 1553 1559 1567 1571 1579 1583 1597 1601 1607 1609 1613 1619 1621 1627 1637 1657 1663 1667 1669 1693 1697 1699 1709 1721 1723 1733 1741 1747 1753 1759 1777 1783 1787 1789 1801 1811 1823 1831 1847 1861 1867 1871 1873 1877 1879 1889 1901 1907 1913 1931 1933 1949 1951 1973 1979 1987 1993 1997 1999 ]"
      ],
      "metadata": {
        "id": "h7F9TCz_-N8z"
      },
      "execution_count": null,
      "outputs": []
    },
    {
      "cell_type": "code",
      "source": [
        "while s>r:#桁数カウント\n",
        "  count+=1\n",
        "  r=r*10\n",
        "print(count)"
      ],
      "metadata": {
        "id": "GwTvDUSZoi-X"
      },
      "execution_count": null,
      "outputs": []
    },
    {
      "cell_type": "code",
      "source": [
        "n = 1000000000000000000000000000000000000000000000000\n",
        "s = 1\n",
        "i = 0\n",
        "r = 1\n",
        "count =0\n",
        "while n>s and list2[i]!=list2[-1]:\n",
        "  s=s*list2[i]\n",
        "  i+=1\n",
        "  print(s)\n",
        "\n",
        "i = 0\n",
        "while n>s and list3_1[i]!=list3_1[-1]:\n",
        "  s=s*(list3_1[i]+100)\n",
        "  i+=1\n",
        "  print(s)\n",
        "\n",
        "while s>r:\n",
        "  count+=1\n",
        "  r=r*10\n",
        "print(count)\n"
      ],
      "metadata": {
        "colab": {
          "base_uri": "https://localhost:8080/"
        },
        "id": "oh8ZKW8AmhAb",
        "outputId": "9332e178-e182-4905-babd-b8ecb28f0fc2"
      },
      "execution_count": null,
      "outputs": [
        {
          "output_type": "stream",
          "name": "stdout",
          "text": [
            "2\n",
            "6\n",
            "30\n",
            "210\n",
            "2310\n",
            "30030\n",
            "510510\n",
            "9699690\n",
            "223092870\n",
            "6469693230\n",
            "200560490130\n",
            "7420738134810\n",
            "304250263527210\n",
            "13082761331670030\n",
            "614889782588491410\n",
            "32589158477190044730\n",
            "1922760350154212639070\n",
            "117288381359406970983270\n",
            "7858321551080267055879090\n",
            "557940830126698960967415390\n",
            "40729680599249024150621323470\n",
            "3217644767340672907899084554130\n",
            "267064515689275851355624017992790\n",
            "23768741896345550770650537601358310\n",
            "2400642931530900627835704297737189310\n",
            "247266221947682764667077542666930498930\n",
            "26457485748402055819377297065361563385510\n",
            "2883865946575824084312125380124410409020590\n",
            "325876851963068121527270167954058376219326670\n",
            "41386360199309651433963311330165413779854487090\n",
            "5421613186109564337849193784251669205160937808790\n",
            "49\n"
          ]
        }
      ]
    },
    {
      "cell_type": "code",
      "source": [
        "print(list2[2])"
      ],
      "metadata": {
        "colab": {
          "base_uri": "https://localhost:8080/"
        },
        "id": "GU8CvBp2ngDX",
        "outputId": "61c9ba28-d613-430f-cce6-b5a567d21972"
      },
      "execution_count": null,
      "outputs": [
        {
          "output_type": "stream",
          "name": "stdout",
          "text": [
            "5\n"
          ]
        }
      ]
    },
    {
      "cell_type": "markdown",
      "source": [
        "an+b"
      ],
      "metadata": {
        "id": "yNEMEhFiFfao"
      }
    },
    {
      "cell_type": "code",
      "source": [
        "60n+b\n",
        "b=1,7,11,13,17,19,23,29,31,37,41,43,47,49,53,59"
      ],
      "metadata": {
        "id": "zupOyXQsQaeW"
      },
      "execution_count": null,
      "outputs": []
    },
    {
      "cell_type": "code",
      "source": [
        "100/3\n",
        "50/7\n",
        "100/11\n",
        "300/13\n",
        "800/17\n",
        "400/19\n",
        "300/23\n",
        "900/29\n",
        "900/31\n",
        "1000/37"
      ],
      "metadata": {
        "id": "lRLZI40pRvYY"
      },
      "execution_count": null,
      "outputs": []
    },
    {
      "cell_type": "code",
      "source": [
        "37,74,111,185,296,370,481,592,666,777,888,999"
      ],
      "metadata": {
        "colab": {
          "base_uri": "https://localhost:8080/"
        },
        "id": "BMy7fWVUSCxi",
        "outputId": "82e7f96e-fe7d-4d17-fbab-5dc12b3334c6"
      },
      "execution_count": null,
      "outputs": [
        {
          "output_type": "stream",
          "name": "stdout",
          "text": [
            "12\n"
          ]
        }
      ]
    },
    {
      "cell_type": "code",
      "source": [
        "print(999%37)"
      ],
      "metadata": {
        "colab": {
          "base_uri": "https://localhost:8080/"
        },
        "id": "5i5a7KN2aJCF",
        "outputId": "36f5b959-6901-43a0-88ec-9e497d9c7b26"
      },
      "execution_count": null,
      "outputs": [
        {
          "output_type": "stream",
          "name": "stdout",
          "text": [
            "0\n"
          ]
        }
      ]
    },
    {
      "cell_type": "code",
      "source": [
        "def input_list(n):#ax+by.\n",
        "  a=3\n",
        "  b=2\n",
        "  x=3#3*\n",
        "  i = 0#5の倍数カウンタ　5の倍数かっと\n",
        "  j = 1\n",
        "  if n%2!=1:\n",
        "    x+=1\n",
        "  y=(n-a*x)//b#2*\n",
        "  if y%3==0:#x=3の判定\n",
        "    return False\n",
        "  y-=a\n",
        "  x+=2\n",
        "  while y>2*x:#x=5~\n",
        "    if i%10!=0:\n",
        "      j+=1\n",
        "      if y<a:\n",
        "        break\n",
        "      if y%x==0:\n",
        "        n=False\n",
        "        break\n",
        "        y=0\n",
        "    i+=1\n",
        "    y=y-a\n",
        "    x=x+2\n",
        "    if i%10!=7:\n",
        "      j+=1\n",
        "      if y<a:\n",
        "        break\n",
        "      if y%x==0:\n",
        "        n=False\n",
        "        break\n",
        "        y=0\n",
        "    y=y-(2*a)\n",
        "    x=x+4\n",
        "    i=i%10+1\n",
        "  if y <= 0:\n",
        "    return (y)\n",
        "  print(x,end=',')\n",
        "  print(y)\n",
        "  return n"
      ],
      "metadata": {
        "id": "gNXU5LZs2ks8"
      },
      "execution_count": null,
      "outputs": []
    },
    {
      "cell_type": "code",
      "source": [
        "def input_list(n,list[]) = 7\n",
        "list=[2,3]\n",
        "while n>a*a:\n",
        "    if i%10==0:\n",
        "      j+=1\n",
        "      if y<a:\n",
        "        break\n",
        "      if y%x==0:\n",
        "        n=False\n",
        "        break\n",
        "        y=0\n",
        "    i+=1\n",
        "    y=y-a\n",
        "    x=x+2\n",
        "    if i%10!=7:\n",
        "      j+=1\n",
        "      if y<a:\n",
        "        break\n",
        "      if y%x==0:\n",
        "        n=False\n",
        "        break\n",
        "        y=0\n",
        "    y=y-(2*a)\n",
        "    x=x+4\n",
        "    i=i%10+1\n"
      ],
      "metadata": {
        "colab": {
          "base_uri": "https://localhost:8080/",
          "height": 232
        },
        "id": "d6_fFbYJ3vkN",
        "outputId": "3e2aa3a4-4d2f-43f7-d61f-d58e9940679c"
      },
      "execution_count": null,
      "outputs": [
        {
          "output_type": "error",
          "ename": "NameError",
          "evalue": "ignored",
          "traceback": [
            "\u001b[0;31m---------------------------------------------------------------------------\u001b[0m",
            "\u001b[0;31mNameError\u001b[0m                                 Traceback (most recent call last)",
            "\u001b[0;32m<ipython-input-4-f86947f23909>\u001b[0m in \u001b[0;36m<module>\u001b[0;34m\u001b[0m\n\u001b[1;32m      1\u001b[0m \u001b[0ma\u001b[0m \u001b[0;34m=\u001b[0m \u001b[0;36m7\u001b[0m\u001b[0;34m\u001b[0m\u001b[0;34m\u001b[0m\u001b[0m\n\u001b[1;32m      2\u001b[0m \u001b[0mlist\u001b[0m\u001b[0;34m=\u001b[0m\u001b[0;34m[\u001b[0m\u001b[0;36m2\u001b[0m\u001b[0;34m,\u001b[0m\u001b[0;36m3\u001b[0m\u001b[0;34m]\u001b[0m\u001b[0;34m\u001b[0m\u001b[0;34m\u001b[0m\u001b[0m\n\u001b[0;32m----> 3\u001b[0;31m \u001b[0;32mwhile\u001b[0m \u001b[0mn\u001b[0m\u001b[0;34m>\u001b[0m\u001b[0ma\u001b[0m\u001b[0;34m*\u001b[0m\u001b[0ma\u001b[0m\u001b[0;34m:\u001b[0m\u001b[0;34m\u001b[0m\u001b[0;34m\u001b[0m\u001b[0m\n\u001b[0m\u001b[1;32m      4\u001b[0m     \u001b[0;32mif\u001b[0m \u001b[0mi\u001b[0m\u001b[0;34m%\u001b[0m\u001b[0;36m10\u001b[0m\u001b[0;34m==\u001b[0m\u001b[0;36m0\u001b[0m\u001b[0;34m:\u001b[0m\u001b[0;34m\u001b[0m\u001b[0;34m\u001b[0m\u001b[0m\n\u001b[1;32m      5\u001b[0m       \u001b[0mj\u001b[0m\u001b[0;34m+=\u001b[0m\u001b[0;36m1\u001b[0m\u001b[0;34m\u001b[0m\u001b[0;34m\u001b[0m\u001b[0m\n",
            "\u001b[0;31mNameError\u001b[0m: name 'n' is not defined"
          ]
        }
      ]
    }
  ]
}